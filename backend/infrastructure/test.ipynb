{
 "cells": [
  {
   "cell_type": "code",
   "execution_count": null,
   "id": "168ffb77",
   "metadata": {},
   "outputs": [],
   "source": [
    "from langchain.document_loaders import TextLoader\n",
    "from langchain.text_splitter import CharacterTextSplitter\n",
    "from langchain.vectorstores import ElasticsearchStore\n",
    "from langchain.embeddings import OpenAIEmbeddings\n",
    "from langchain.llms import OpenAI\n",
    "from langchain.chains import RetrievalQA\n",
    "import os\n",
    "import openai\n",
    "from dotenv import load_dotenv\n",
    "import warnings\n",
    "\n",
    "load_dotenv()\n",
    "api_key = os.getenv(\"OPENAI_API_KEY\")\n",
    "es_password = os.getenv(\"ES_PASSWORD\")\n",
    "es_fingerprint = os.getenv(\"ES_FINGERPRINT\")\n",
    "es_http = os.getenv(\"ES_HTTP\")\n",
    "\n",
    "class mCase_GPT:\n",
    "    def __init__(self):\n",
    "        self.chain = create_chain()\n",
    "\n",
    "    def query(self, query):\n",
    "        result = self.chain({\"query\": query})\n",
    "        output = result['result']\n",
    "        print(f\"\\n{output}\\n\")\n",
    "        return result['result'], result\n",
    "\n",
    "\n",
    "def create_chain():\n",
    "    warnings.filterwarnings(\"ignore\")\n",
    "    llm = OpenAI(openai_api_key=api_key)\n",
    "    embeddings = OpenAIEmbeddings(openai_api_key=api_key)\n",
    "    openai.api_key = api_key\n",
    "    \n",
    "def query(self, query):\n",
    "        result = self.llm(query)\n",
    "        print(result)\n",
    "    \n",
    "\n",
    "    # es_client = Elasticsearch(es_http, verify_certs=False, basic_auth=('elastic', es_password),\n",
    "    #                           ssl_assert_fingerprint=es_fingerprint.replace(':', \"\").lower())\n",
    "\n",
    "    # index_name = \"feature_friday\"\n",
    "    # es_store = ElasticsearchStore(\n",
    "    #     index_name=index_name,\n",
    "    #     embedding=embeddings,\n",
    "    #     es_connection=es_client\n",
    "    # )\n",
    "\n",
    "    # if not es_client.indices.exists(index=index_name):\n",
    "    #     # Load and split the text file\n",
    "    #     loader = TextLoader(\"./RAG_SEARCH_TYPES.txt\", encoding='utf-8')\n",
    "    #     documents = loader.load()\n",
    "    #     text_splitter = CharacterTextSplitter(chunk_size=200, chunk_overlap=50)\n",
    "    #     texts = text_splitter.split_documents(documents)\n",
    "    #     es_store.add_documents(texts)\n",
    "\n",
    "    # retriever = es_store.as_retriever(search_type=\"mmr\", search_kwargs={\"fetch_k\": 10, \"k\": 2})\n",
    "    # qa_chain = RetrievalQA.from_chain_type(\n",
    "    #     llm=llm,\n",
    "    #     chain_type=\"stuff\",\n",
    "    #     retriever=retriever,\n",
    "    #     return_source_documents=True\n",
    "    # )\n",
    "    # return qa_chain\n"
   ]
  },
  {
   "cell_type": "code",
   "execution_count": null,
   "id": "022af3f4",
   "metadata": {},
   "outputs": [
    {
     "ename": "",
     "evalue": "",
     "output_type": "error",
     "traceback": [
      "\u001b[1;31mRunning cells with 'redmanehackathon2025 (Python 3.10.4)' requires the ipykernel package.\n",
      "\u001b[1;31m<a href='command:jupyter.createPythonEnvAndSelectController'>Create a Python Environment</a> with the required packages."
     ]
    }
   ],
   "source": [
    "gpt = mCase_GPT()\n",
    "gpt.query(\"hello\")"
   ]
  },
  {
   "cell_type": "code",
   "execution_count": null,
   "id": "a6f39545",
   "metadata": {},
   "outputs": [
    {
     "ename": "",
     "evalue": "",
     "output_type": "error",
     "traceback": [
      "\u001b[1;31mRunning cells with 'redmanehackathon2025 (Python 3.10.4)' requires the ipykernel package.\n",
      "\u001b[1;31m<a href='command:jupyter.createPythonEnvAndSelectController'>Create a Python Environment</a> with the required packages."
     ]
    }
   ],
   "source": [
    "import openai\n",
    "\n",
    "# Set your Azure OpenAI credentials\n",
    "openai.api_type = \"azure\"\n",
    "openai.api_base = \"https://rm-shared-open-ai.openai.azure.com\"\n",
    "openai.api_version = \"2025-04-14\"\n",
    "openai.api_key = \"6e4d8096797d4ef6a19a834f92e97103\"\n",
    "\n",
    "# Your deployment name\n",
    "deployment_name = \"gpt-4.1-mini\"\n",
    "\n",
    "# Send a chat completion prompt\n",
    "response = openai.ChatCompletion.create(\n",
    "    engine=deployment_name,  # Use the deployment name, NOT the model name\n",
    "    messages=[\n",
    "        {\"role\": \"system\", \"content\": \"You are a helpful assistant.\"},\n",
    "        {\"role\": \"user\", \"content\": \"What is the capital of France?\"}\n",
    "    ]\n",
    ")\n",
    "\n",
    "# Print the response\n",
    "print(response['choices'][0]['message']['content'])\n"
   ]
  },
  {
   "cell_type": "code",
   "execution_count": null,
   "id": "c850ab09",
   "metadata": {},
   "outputs": [],
   "source": []
  }
 ],
 "metadata": {
  "kernelspec": {
   "display_name": "redmanehackathon2025",
   "language": "python",
   "name": "python3"
  },
  "language_info": {
   "name": "python",
   "version": "3.10.4"
  }
 },
 "nbformat": 4,
 "nbformat_minor": 5
}
